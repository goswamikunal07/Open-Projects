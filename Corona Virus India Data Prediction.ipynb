{
 "cells": [
  {
   "cell_type": "code",
   "execution_count": 1,
   "metadata": {},
   "outputs": [],
   "source": [
    "import numpy as np\n",
    "import pandas as pd\n",
    "import matplotlib.pyplot as plt\n",
    "%matplotlib inline\n",
    "import seaborn as sns"
   ]
  },
  {
   "cell_type": "code",
   "execution_count": 2,
   "metadata": {},
   "outputs": [],
   "source": [
    "df_covid = pd.read_csv('total_cases.csv') "
   ]
  },
  {
   "cell_type": "code",
   "execution_count": 3,
   "metadata": {},
   "outputs": [
    {
     "data": {
      "text/plain": [
       "0           0.0\n",
       "1           0.0\n",
       "2           0.0\n",
       "3           0.0\n",
       "4           0.0\n",
       "         ...   \n",
       "156    216919.0\n",
       "157    226770.0\n",
       "158    236657.0\n",
       "159    246628.0\n",
       "160    256611.0\n",
       "Name: India, Length: 160, dtype: float64"
      ]
     },
     "execution_count": 3,
     "metadata": {},
     "output_type": "execute_result"
    }
   ],
   "source": [
    "# Choosing the India dataset \n",
    "df_covid['India'].dropna()"
   ]
  },
  {
   "cell_type": "code",
   "execution_count": 4,
   "metadata": {},
   "outputs": [
    {
     "data": {
      "text/plain": [
       "array([[0.00000e+00],\n",
       "       [0.00000e+00],\n",
       "       [0.00000e+00],\n",
       "       [0.00000e+00],\n",
       "       [0.00000e+00],\n",
       "       [0.00000e+00],\n",
       "       [0.00000e+00],\n",
       "       [0.00000e+00],\n",
       "       [0.00000e+00],\n",
       "       [0.00000e+00],\n",
       "       [0.00000e+00],\n",
       "       [0.00000e+00],\n",
       "       [0.00000e+00],\n",
       "       [0.00000e+00],\n",
       "       [0.00000e+00],\n",
       "       [0.00000e+00],\n",
       "       [0.00000e+00],\n",
       "       [0.00000e+00],\n",
       "       [0.00000e+00],\n",
       "       [0.00000e+00],\n",
       "       [0.00000e+00],\n",
       "       [0.00000e+00],\n",
       "       [0.00000e+00],\n",
       "       [0.00000e+00],\n",
       "       [0.00000e+00],\n",
       "       [0.00000e+00],\n",
       "       [0.00000e+00],\n",
       "       [0.00000e+00],\n",
       "       [0.00000e+00],\n",
       "       [0.00000e+00],\n",
       "       [1.00000e+00],\n",
       "       [1.00000e+00],\n",
       "       [1.00000e+00],\n",
       "       [2.00000e+00],\n",
       "       [2.00000e+00],\n",
       "       [3.00000e+00],\n",
       "       [3.00000e+00],\n",
       "       [3.00000e+00],\n",
       "       [3.00000e+00],\n",
       "       [3.00000e+00],\n",
       "       [3.00000e+00],\n",
       "       [3.00000e+00],\n",
       "       [3.00000e+00],\n",
       "       [3.00000e+00],\n",
       "       [3.00000e+00],\n",
       "       [3.00000e+00],\n",
       "       [3.00000e+00],\n",
       "       [3.00000e+00],\n",
       "       [3.00000e+00],\n",
       "       [3.00000e+00],\n",
       "       [3.00000e+00],\n",
       "       [3.00000e+00],\n",
       "       [3.00000e+00],\n",
       "       [3.00000e+00],\n",
       "       [3.00000e+00],\n",
       "       [3.00000e+00],\n",
       "       [3.00000e+00],\n",
       "       [3.00000e+00],\n",
       "       [3.00000e+00],\n",
       "       [3.00000e+00],\n",
       "       [3.00000e+00],\n",
       "       [3.00000e+00],\n",
       "       [3.00000e+00],\n",
       "       [5.00000e+00],\n",
       "       [6.00000e+00],\n",
       "       [2.80000e+01],\n",
       "       [2.90000e+01],\n",
       "       [3.10000e+01],\n",
       "       [3.40000e+01],\n",
       "       [        nan],\n",
       "       [4.40000e+01],\n",
       "       [5.00000e+01],\n",
       "       [7.30000e+01],\n",
       "       [7.50000e+01],\n",
       "       [8.30000e+01],\n",
       "       [9.00000e+01],\n",
       "       [9.30000e+01],\n",
       "       [1.25000e+02],\n",
       "       [1.37000e+02],\n",
       "       [1.65000e+02],\n",
       "       [1.91000e+02],\n",
       "       [2.31000e+02],\n",
       "       [3.20000e+02],\n",
       "       [4.39000e+02],\n",
       "       [4.92000e+02],\n",
       "       [5.62000e+02],\n",
       "       [6.49000e+02],\n",
       "       [7.24000e+02],\n",
       "       [8.73000e+02],\n",
       "       [9.79000e+02],\n",
       "       [1.07100e+03],\n",
       "       [1.25100e+03],\n",
       "       [1.39700e+03],\n",
       "       [1.96500e+03],\n",
       "       [2.30100e+03],\n",
       "       [2.90200e+03],\n",
       "       [3.37400e+03],\n",
       "       [4.06700e+03],\n",
       "       [4.42100e+03],\n",
       "       [5.19400e+03],\n",
       "       [5.73400e+03],\n",
       "       [6.41200e+03],\n",
       "       [7.44700e+03],\n",
       "       [8.35600e+03],\n",
       "       [9.15200e+03],\n",
       "       [1.03630e+04],\n",
       "       [1.14380e+04],\n",
       "       [1.23800e+04],\n",
       "       [1.33870e+04],\n",
       "       [1.43780e+04],\n",
       "       [1.57120e+04],\n",
       "       [1.72650e+04],\n",
       "       [1.86000e+04],\n",
       "       [1.99840e+04],\n",
       "       [2.13930e+04],\n",
       "       [2.30770e+04],\n",
       "       [2.45060e+04],\n",
       "       [2.64960e+04],\n",
       "       [2.78920e+04],\n",
       "       [2.94350e+04],\n",
       "       [3.13320e+04],\n",
       "       [3.30500e+04],\n",
       "       [3.50430e+04],\n",
       "       [3.73360e+04],\n",
       "       [3.99800e+04],\n",
       "       [4.25330e+04],\n",
       "       [4.64330e+04],\n",
       "       [4.93910e+04],\n",
       "       [5.29520e+04],\n",
       "       [5.63420e+04],\n",
       "       [5.96620e+04],\n",
       "       [6.29390e+04],\n",
       "       [6.71520e+04],\n",
       "       [7.07560e+04],\n",
       "       [7.42810e+04],\n",
       "       [7.80030e+04],\n",
       "       [8.19700e+04],\n",
       "       [8.59400e+04],\n",
       "       [9.09270e+04],\n",
       "       [9.61690e+04],\n",
       "       [1.01139e+05],\n",
       "       [1.06750e+05],\n",
       "       [1.12359e+05],\n",
       "       [1.18447e+05],\n",
       "       [1.25101e+05],\n",
       "       [1.31868e+05],\n",
       "       [1.38845e+05],\n",
       "       [1.45380e+05],\n",
       "       [1.51767e+05],\n",
       "       [1.58333e+05],\n",
       "       [1.65799e+05],\n",
       "       [1.73763e+05],\n",
       "       [1.82143e+05],\n",
       "       [1.90535e+05],\n",
       "       [1.98706e+05],\n",
       "       [2.07615e+05],\n",
       "       [2.16919e+05],\n",
       "       [2.26770e+05],\n",
       "       [2.36657e+05],\n",
       "       [2.46628e+05],\n",
       "       [2.56611e+05]])"
      ]
     },
     "execution_count": 4,
     "metadata": {},
     "output_type": "execute_result"
    }
   ],
   "source": [
    "y = np.array(df_covid['India']).reshape(-1,1)\n",
    "y"
   ]
  },
  {
   "cell_type": "code",
   "execution_count": 5,
   "metadata": {},
   "outputs": [],
   "source": [
    "\n",
    "x = [i for i in range(0,161,1)]"
   ]
  },
  {
   "cell_type": "code",
   "execution_count": 6,
   "metadata": {},
   "outputs": [],
   "source": [
    "x = np.array(x)"
   ]
  },
  {
   "cell_type": "code",
   "execution_count": 7,
   "metadata": {},
   "outputs": [
    {
     "data": {
      "text/plain": [
       "array([[  0],\n",
       "       [  1],\n",
       "       [  2],\n",
       "       [  3],\n",
       "       [  4],\n",
       "       [  5],\n",
       "       [  6],\n",
       "       [  7],\n",
       "       [  8],\n",
       "       [  9],\n",
       "       [ 10],\n",
       "       [ 11],\n",
       "       [ 12],\n",
       "       [ 13],\n",
       "       [ 14],\n",
       "       [ 15],\n",
       "       [ 16],\n",
       "       [ 17],\n",
       "       [ 18],\n",
       "       [ 19],\n",
       "       [ 20],\n",
       "       [ 21],\n",
       "       [ 22],\n",
       "       [ 23],\n",
       "       [ 24],\n",
       "       [ 25],\n",
       "       [ 26],\n",
       "       [ 27],\n",
       "       [ 28],\n",
       "       [ 29],\n",
       "       [ 30],\n",
       "       [ 31],\n",
       "       [ 32],\n",
       "       [ 33],\n",
       "       [ 34],\n",
       "       [ 35],\n",
       "       [ 36],\n",
       "       [ 37],\n",
       "       [ 38],\n",
       "       [ 39],\n",
       "       [ 40],\n",
       "       [ 41],\n",
       "       [ 42],\n",
       "       [ 43],\n",
       "       [ 44],\n",
       "       [ 45],\n",
       "       [ 46],\n",
       "       [ 47],\n",
       "       [ 48],\n",
       "       [ 49],\n",
       "       [ 50],\n",
       "       [ 51],\n",
       "       [ 52],\n",
       "       [ 53],\n",
       "       [ 54],\n",
       "       [ 55],\n",
       "       [ 56],\n",
       "       [ 57],\n",
       "       [ 58],\n",
       "       [ 59],\n",
       "       [ 60],\n",
       "       [ 61],\n",
       "       [ 62],\n",
       "       [ 63],\n",
       "       [ 64],\n",
       "       [ 65],\n",
       "       [ 66],\n",
       "       [ 67],\n",
       "       [ 68],\n",
       "       [ 69],\n",
       "       [ 70],\n",
       "       [ 71],\n",
       "       [ 72],\n",
       "       [ 73],\n",
       "       [ 74],\n",
       "       [ 75],\n",
       "       [ 76],\n",
       "       [ 77],\n",
       "       [ 78],\n",
       "       [ 79],\n",
       "       [ 80],\n",
       "       [ 81],\n",
       "       [ 82],\n",
       "       [ 83],\n",
       "       [ 84],\n",
       "       [ 85],\n",
       "       [ 86],\n",
       "       [ 87],\n",
       "       [ 88],\n",
       "       [ 89],\n",
       "       [ 90],\n",
       "       [ 91],\n",
       "       [ 92],\n",
       "       [ 93],\n",
       "       [ 94],\n",
       "       [ 95],\n",
       "       [ 96],\n",
       "       [ 97],\n",
       "       [ 98],\n",
       "       [ 99],\n",
       "       [100],\n",
       "       [101],\n",
       "       [102],\n",
       "       [103],\n",
       "       [104],\n",
       "       [105],\n",
       "       [106],\n",
       "       [107],\n",
       "       [108],\n",
       "       [109],\n",
       "       [110],\n",
       "       [111],\n",
       "       [112],\n",
       "       [113],\n",
       "       [114],\n",
       "       [115],\n",
       "       [116],\n",
       "       [117],\n",
       "       [118],\n",
       "       [119],\n",
       "       [120],\n",
       "       [121],\n",
       "       [122],\n",
       "       [123],\n",
       "       [124],\n",
       "       [125],\n",
       "       [126],\n",
       "       [127],\n",
       "       [128],\n",
       "       [129],\n",
       "       [130],\n",
       "       [131],\n",
       "       [132],\n",
       "       [133],\n",
       "       [134],\n",
       "       [135],\n",
       "       [136],\n",
       "       [137],\n",
       "       [138],\n",
       "       [139],\n",
       "       [140],\n",
       "       [141],\n",
       "       [142],\n",
       "       [143],\n",
       "       [144],\n",
       "       [145],\n",
       "       [146],\n",
       "       [147],\n",
       "       [148],\n",
       "       [149],\n",
       "       [150],\n",
       "       [151],\n",
       "       [152],\n",
       "       [153],\n",
       "       [154],\n",
       "       [155],\n",
       "       [156],\n",
       "       [157],\n",
       "       [158],\n",
       "       [159],\n",
       "       [160]])"
      ]
     },
     "execution_count": 7,
     "metadata": {},
     "output_type": "execute_result"
    }
   ],
   "source": [
    "x.reshape(-1,1)"
   ]
  },
  {
   "cell_type": "code",
   "execution_count": 8,
   "metadata": {},
   "outputs": [
    {
     "data": {
      "text/plain": [
       "<matplotlib.collections.PathCollection at 0x1fc833b5048>"
      ]
     },
     "execution_count": 8,
     "metadata": {},
     "output_type": "execute_result"
    },
    {
     "data": {
      "image/png": "[encoded data removed]",
      "text/plain": [
       "<Figure size 432x288 with 1 Axes>"
      ]
     },
     "metadata": {
      "needs_background": "light"
     },
     "output_type": "display_data"
    }
   ],
   "source": [
    "## Visualising the daily new cases \n",
    "\n",
    "plt.scatter(x,y)"
   ]
  },
  {
   "cell_type": "code",
   "execution_count": 9,
   "metadata": {},
   "outputs": [],
   "source": [
    "x = x[0:30]"
   ]
  },
  {
   "cell_type": "code",
   "execution_count": 10,
   "metadata": {},
   "outputs": [],
   "source": [
    "y = y[131:]"
   ]
  },
  {
   "cell_type": "code",
   "execution_count": 11,
   "metadata": {},
   "outputs": [
    {
     "data": {
      "text/plain": [
       "(30, 30)"
      ]
     },
     "execution_count": 11,
     "metadata": {},
     "output_type": "execute_result"
    }
   ],
   "source": [
    "x.size,y.size"
   ]
  },
  {
   "cell_type": "code",
   "execution_count": 12,
   "metadata": {},
   "outputs": [
    {
     "data": {
      "text/plain": [
       "<matplotlib.collections.PathCollection at 0x1fc83472208>"
      ]
     },
     "execution_count": 12,
     "metadata": {},
     "output_type": "execute_result"
    },
    {
     "data": {
      "image/png": "[encoded data removed]",
      "text/plain": [
       "<Figure size 432x288 with 1 Axes>"
      ]
     },
     "metadata": {
      "needs_background": "light"
     },
     "output_type": "display_data"
    }
   ],
   "source": [
    "## scatter plot for last 30 days progression\n",
    "plt.scatter(x,y)"
   ]
  },
  {
   "cell_type": "markdown",
   "metadata": {},
   "source": [
    "## Model Training "
   ]
  },
  {
   "cell_type": "code",
   "execution_count": 13,
   "metadata": {},
   "outputs": [],
   "source": [
    "from sklearn.preprocessing import PolynomialFeatures"
   ]
  },
  {
   "cell_type": "code",
   "execution_count": 14,
   "metadata": {},
   "outputs": [],
   "source": [
    "pr = PolynomialFeatures(degree=2)"
   ]
  },
  {
   "cell_type": "code",
   "execution_count": 15,
   "metadata": {},
   "outputs": [],
   "source": [
    "x_poly = pr.fit_transform(x.reshape(-1,1))"
   ]
  },
  {
   "cell_type": "code",
   "execution_count": 17,
   "metadata": {},
   "outputs": [],
   "source": [
    "from sklearn.linear_model import LinearRegression"
   ]
  },
  {
   "cell_type": "code",
   "execution_count": 18,
   "metadata": {},
   "outputs": [],
   "source": [
    "lr = LinearRegression()"
   ]
  },
  {
   "cell_type": "code",
   "execution_count": 19,
   "metadata": {},
   "outputs": [
    {
     "data": {
      "text/plain": [
       "LinearRegression(copy_X=True, fit_intercept=True, n_jobs=None, normalize=False)"
      ]
     },
     "execution_count": 19,
     "metadata": {},
     "output_type": "execute_result"
    }
   ],
   "source": [
    "lr.fit(x_poly,y.reshape(-1,1))"
   ]
  },
  {
   "cell_type": "code",
   "execution_count": null,
   "metadata": {},
   "outputs": [],
   "source": []
  },
  {
   "cell_type": "markdown",
   "metadata": {},
   "source": [
    "## Model Evaluation"
   ]
  },
  {
   "cell_type": "code",
   "execution_count": 20,
   "metadata": {},
   "outputs": [],
   "source": [
    "y_pred = lr.predict(x_poly)"
   ]
  },
  {
   "cell_type": "code",
   "execution_count": 21,
   "metadata": {},
   "outputs": [
    {
     "data": {
      "text/plain": [
       "<matplotlib.axes._subplots.AxesSubplot at 0x1fc83f26a08>"
      ]
     },
     "execution_count": 21,
     "metadata": {},
     "output_type": "execute_result"
    },
    {
     "data": {
      "image/png": "[encoded data removed]",
      "text/plain": [
       "<Figure size 432x288 with 1 Axes>"
      ]
     },
     "metadata": {
      "needs_background": "light"
     },
     "output_type": "display_data"
    }
   ],
   "source": [
    "sns.distplot(abs(y-y_pred))"
   ]
  },
  {
   "cell_type": "code",
   "execution_count": 22,
   "metadata": {},
   "outputs": [],
   "source": [
    "from sklearn.metrics import mean_squared_error"
   ]
  },
  {
   "cell_type": "code",
   "execution_count": 23,
   "metadata": {},
   "outputs": [
    {
     "data": {
      "text/plain": [
       "543.253946995715"
      ]
     },
     "execution_count": 23,
     "metadata": {},
     "output_type": "execute_result"
    }
   ],
   "source": [
    "mean_squared_error(y,y_pred)**0.5"
   ]
  },
  {
   "cell_type": "code",
   "execution_count": 24,
   "metadata": {},
   "outputs": [
    {
     "data": {
      "text/plain": [
       "[<matplotlib.lines.Line2D at 0x1fc83fa0c08>]"
      ]
     },
     "execution_count": 24,
     "metadata": {},
     "output_type": "execute_result"
    },
    {
     "data": {
      "image/png": "[encoded data removed]",
      "text/plain": [
       "<Figure size 432x288 with 1 Axes>"
      ]
     },
     "metadata": {
      "needs_background": "light"
     },
     "output_type": "display_data"
    }
   ],
   "source": [
    "#Predicted line\n",
    "\n",
    "plt.plot(x,y_pred,color = 'r')"
   ]
  },
  {
   "cell_type": "code",
   "execution_count": null,
   "metadata": {},
   "outputs": [],
   "source": []
  },
  {
   "cell_type": "markdown",
   "metadata": {},
   "source": [
    "## Final Prediction of cases by month END"
   ]
  },
  {
   "cell_type": "code",
   "execution_count": 28,
   "metadata": {},
   "outputs": [
    {
     "data": {
      "text/plain": [
       "array([[554694.8478786]])"
      ]
     },
     "execution_count": 28,
     "metadata": {},
     "output_type": "execute_result"
    }
   ],
   "source": [
    "lr.predict(pr.fit_transform(np.array([52]).reshape(-1,1)))"
   ]
  },
  {
   "cell_type": "markdown",
   "metadata": {},
   "source": [
    "## Result - 554694 Total Cases By June End in India"
   ]
  }
 ],
 "metadata": {
  "kernelspec": {
   "display_name": "Python 3",
   "language": "python",
   "name": "python3"
  },
  "language_info": {
   "codemirror_mode": {
    "name": "ipython",
    "version": 3
   },
   "file_extension": ".py",
   "mimetype": "text/x-python",
   "name": "python",
   "nbconvert_exporter": "python",
   "pygments_lexer": "ipython3",
   "version": "3.7.4"
  }
 },
 "nbformat": 4,
 "nbformat_minor": 2
}
